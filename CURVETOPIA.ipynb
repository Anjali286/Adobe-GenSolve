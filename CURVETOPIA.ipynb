{
  "nbformat": 4,
  "nbformat_minor": 0,
  "metadata": {
    "colab": {
      "provenance": [],
      "authorship_tag": "ABX9TyO8wngbV/E7mUY7qMz/613y",
      "include_colab_link": true
    },
    "kernelspec": {
      "name": "python3",
      "display_name": "Python 3"
    },
    "language_info": {
      "name": "python"
    }
  },
  "cells": [
    {
      "cell_type": "markdown",
      "metadata": {
        "id": "view-in-github",
        "colab_type": "text"
      },
      "source": [
        "<a href=\"https://colab.research.google.com/github/Anjali286/Adobe-GenSolve/blob/main/CURVETOPIA.ipynb\" target=\"_parent\"><img src=\"https://colab.research.google.com/assets/colab-badge.svg\" alt=\"Open In Colab\"/></a>"
      ]
    },
    {
      "cell_type": "markdown",
      "source": [
        "Import Libraries\n",
        "\n",
        "*  **cv2:** For image processing tasks.\n",
        "*  **numpy:** For handling arrays and numerical operations.\n",
        "* **matplotlib.pyplot:** For displaying images."
      ],
      "metadata": {
        "id": "c4lwPRAkRIX-"
      }
    },
    {
      "cell_type": "code",
      "source": [
        "import cv2\n",
        "import numpy as np\n",
        "import matplotlib.pyplot as plt"
      ],
      "metadata": {
        "id": "u8Ampr_pRL4G"
      },
      "execution_count": 2,
      "outputs": []
    },
    {
      "cell_type": "markdown",
      "source": [
        "**Load and Prepare the Image**\n",
        "\n",
        "\n",
        "\n",
        "*   List itemcv2.imread(image_path, cv2.IMREAD_GRAYSCALE): Reads the image in grayscale.\n",
        "* cv2.bitwise_not(image): Inverts the image colors (doodles turn white).\n",
        "* cv2.threshold(inverted_image, 128, 255, cv2.THRESH_BINARY): Converts the image to black and white.\n",
        "* cv2.resize(binary_image, (128, 128)): Resizes the image to a fixed size.\n",
        "\n",
        "\n"
      ],
      "metadata": {
        "id": "FJoO8snDR6I-"
      }
    },
    {
      "cell_type": "code",
      "source": [
        "def load_and_preprocess_image(image_path):\n",
        "    image = cv2.imread(image_path, cv2.IMREAD_GRAYSCALE)\n",
        "    inverted_image = cv2.bitwise_not(image)\n",
        "    _, binary_image = cv2.threshold(inverted_image, 128, 255, cv2.THRESH_BINARY)\n",
        "    resized_image = cv2.resize(binary_image, (128, 128))\n",
        "    return resized_image"
      ],
      "metadata": {
        "id": "xvaU9ajBSi2f"
      },
      "execution_count": 4,
      "outputs": []
    },
    {
      "cell_type": "markdown",
      "source": [
        "**Smooth and Fix Doodles**\n",
        "\n",
        "\n",
        "*  cv2.GaussianBlur(image, (3, 3), 0): Blurs the image to smooth out noise.\n",
        "* np.ones((3, 3), np.uint8): Creates a small square matrix for operations.\n",
        "* cv2.morphologyEx(blurred_image, cv2.MORPH_CLOSE, kernel): Fills small gaps in the doodles.\n",
        "\n",
        "\n"
      ],
      "metadata": {
        "id": "vpDFAzTRTXiD"
      }
    },
    {
      "cell_type": "code",
      "source": [
        "def regularize_doodles(image):\n",
        "    blurred_image = cv2.GaussianBlur(image, (3, 3), 0)\n",
        "    kernel = np.ones((3, 3), np.uint8)\n",
        "    regularized_image = cv2.morphologyEx(blurred_image, cv2.MORPH_CLOSE, kernel)\n",
        "    return regularized_image"
      ],
      "metadata": {
        "id": "E2cC3c9OTq6Z"
      },
      "execution_count": 5,
      "outputs": []
    },
    {
      "cell_type": "markdown",
      "source": [
        "**Make Doodles Symmetrical**\n",
        "\n",
        "\n",
        "\n",
        "*   cv2.flip(image, 1): Flips the image horizontally.\n",
        "* cv2.addWeighted(image, 0.5, flipped_image, 0.5, 0): Averages the original and flipped images to make the doodle symmetrical.\n",
        "\n",
        "\n"
      ],
      "metadata": {
        "id": "MootEwtzUC_P"
      }
    },
    {
      "cell_type": "code",
      "source": [
        "def enforce_symmetry(image):\n",
        "    flipped_image = cv2.flip(image, 1)\n",
        "    symmetric_image = cv2.addWeighted(image, 0.5, flipped_image, 0.5, 0)\n",
        "    return symmetric_image"
      ],
      "metadata": {
        "id": "HweGkQ9fUQza"
      },
      "execution_count": 9,
      "outputs": []
    },
    {
      "cell_type": "markdown",
      "source": [
        "**Complete and Refine Doodles**\n",
        "\n",
        "\n",
        "*   cv2.dilate(image, kernel, iterations=1): Expands the doodles to fill in gaps.\n",
        "* cv2.erode(dilated_image, kernel, iterations=1): Reduces the expanded areas to refine the doodle shapes.\n",
        "\n",
        "\n"
      ],
      "metadata": {
        "id": "uTyL_D0EUSgN"
      }
    },
    {
      "cell_type": "code",
      "source": [
        "def complete_doodles(image):\n",
        "    kernel = np.ones((3, 3), np.uint8)\n",
        "    dilated_image = cv2.dilate(image, kernel, iterations=1)\n",
        "    eroded_image = cv2.erode(dilated_image, kernel, iterations=1)\n",
        "    return eroded_image"
      ],
      "metadata": {
        "id": "nAdSHy9xUbR6"
      },
      "execution_count": 7,
      "outputs": []
    },
    {
      "cell_type": "markdown",
      "source": [
        "**Show Both Images**\n",
        "\n",
        "\n",
        "\n",
        "\n",
        "*   plt.figure(figsize=(10, 5)): Sets the figure size.\n",
        "* plt.subplot(1, 2, 1): Prepares the layout for the original image.\n",
        "* plt.imshow(original_image, cmap='gray'): Displays the original image.\n",
        "* plt.subplot(1, 2, 2): Prepares the layout for the processed image.\n",
        "* plt.imshow(processed_image, cmap='gray'): Displays the processed image.\n",
        "* plt.show(): Shows the images side by side.\n"
      ],
      "metadata": {
        "id": "BAUlNDZwUh35"
      }
    },
    {
      "cell_type": "code",
      "source": [
        "def display_images(original_image, processed_image):\n",
        "    plt.figure(figsize=(10, 5))\n",
        "    plt.subplot(1, 2, 1)\n",
        "    plt.title('Original Image')\n",
        "    plt.imshow(original_image, cmap='gray')\n",
        "    plt.axis('off')\n",
        "\n",
        "    plt.subplot(1, 2, 2)\n",
        "    plt.title('Processed Image')\n",
        "    plt.imshow(processed_image, cmap='gray')\n",
        "    plt.axis('off')\n",
        "\n",
        "    plt.show()"
      ],
      "metadata": {
        "id": "ARloTvGBUzug"
      },
      "execution_count": 8,
      "outputs": []
    },
    {
      "cell_type": "markdown",
      "source": [
        "**Main Function to Run Everything**\n",
        "* load_and_preprocess_image(image_path): Prepare the image for processing.\n",
        "* combine_features(preprocessed_image): Apply processing steps to the image.\n",
        "* cv2.imread(image_path, cv2.IMREAD_GRAYSCALE): Load the original image.\n",
        "* cv2.resize(original_image, (128, 128)): Resize the original image.\n",
        "* display_images(original_image_resized, final_image): Show both the original and processed images."
      ],
      "metadata": {
        "id": "zMpMIBy5VAp8"
      }
    },
    {
      "cell_type": "code",
      "source": [
        "def main(image_path):\n",
        "    preprocessed_image = load_and_preprocess_image(image_path)\n",
        "    final_image = combine_features(preprocessed_image)\n",
        "    original_image = cv2.imread(image_path, cv2.IMREAD_GRAYSCALE)\n",
        "    original_image_resized = cv2.resize(original_image, (128, 128))\n",
        "    display_images(original_image_resized, final_image)"
      ],
      "metadata": {
        "id": "pxfObNdOW36d"
      },
      "execution_count": 10,
      "outputs": []
    },
    {
      "cell_type": "markdown",
      "source": [
        "**Run the Code**"
      ],
      "metadata": {
        "id": "8FTrGfCeXCpr"
      }
    },
    {
      "cell_type": "code",
      "source": [
        "image_path = '/content/random.png'\n",
        "main(image_path)\n"
      ],
      "metadata": {
        "colab": {
          "base_uri": "https://localhost:8080/",
          "height": 411
        },
        "id": "lJe0q1sdXCNW",
        "outputId": "4a6bfdf9-74c7-4c1b-bd19-93668f0fd5a9"
      },
      "execution_count": 11,
      "outputs": [
        {
          "output_type": "display_data",
          "data": {
            "text/plain": [
              "<Figure size 1000x500 with 2 Axes>"
            ],
            "image/png": "[encoded data removed]"
          },
          "metadata": {}
        }
      ]
    }
  ]
}